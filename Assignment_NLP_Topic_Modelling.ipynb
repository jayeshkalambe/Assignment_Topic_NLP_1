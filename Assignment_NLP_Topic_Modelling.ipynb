{
 "cells": [
  {
   "cell_type": "markdown",
   "id": "771e266f",
   "metadata": {},
   "source": [
    "# Topic Modelling"
   ]
  },
  {
   "cell_type": "code",
   "execution_count": 342,
   "id": "1752f4c5",
   "metadata": {},
   "outputs": [
    {
     "name": "stderr",
     "output_type": "stream",
     "text": [
      "[nltk_data] Downloading package averaged_perceptron_tagger to\n",
      "[nltk_data]     C:\\Users\\jayesh_kalambe\\AppData\\Roaming\\nltk_data...\n",
      "[nltk_data]   Package averaged_perceptron_tagger is already up-to-\n",
      "[nltk_data]       date!\n",
      "[nltk_data] Downloading package wordnet to\n",
      "[nltk_data]     C:\\Users\\jayesh_kalambe\\AppData\\Roaming\\nltk_data...\n",
      "[nltk_data]   Package wordnet is already up-to-date!\n"
     ]
    },
    {
     "data": {
      "text/plain": [
       "True"
      ]
     },
     "execution_count": 342,
     "metadata": {},
     "output_type": "execute_result"
    }
   ],
   "source": [
    "import pandas as pd\n",
    "from sklearn.feature_extraction.text import TfidfVectorizer\n",
    "from sklearn.feature_extraction import text\n",
    "from sklearn.decomposition import NMF\n",
    "import numpy as np\n",
    "import pickle \n",
    "import warnings\n",
    "warnings.filterwarnings('ignore')\n",
    "import matplotlib.pyplot as plt\n",
    "%matplotlib inline\n",
    "from sklearn.model_selection import train_test_split\n",
    "from sklearn.metrics import confusion_matrix, classification_report\n",
    "from sklearn.naive_bayes import MultinomialNB\n",
    "import nltk \n",
    "from nltk.corpus import stopwords\n",
    "from nltk import word_tokenize, pos_tag\n",
    "from nltk.stem import PorterStemmer\n",
    "nltk.download('averaged_perceptron_tagger')\n",
    "nltk.download('wordnet')\n"
   ]
  },
  {
   "cell_type": "code",
   "execution_count": 343,
   "id": "16e841ae",
   "metadata": {},
   "outputs": [
    {
     "data": {
      "text/html": [
       "<div>\n",
       "<style scoped>\n",
       "    .dataframe tbody tr th:only-of-type {\n",
       "        vertical-align: middle;\n",
       "    }\n",
       "\n",
       "    .dataframe tbody tr th {\n",
       "        vertical-align: top;\n",
       "    }\n",
       "\n",
       "    .dataframe thead th {\n",
       "        text-align: right;\n",
       "    }\n",
       "</style>\n",
       "<table border=\"1\" class=\"dataframe\">\n",
       "  <thead>\n",
       "    <tr style=\"text-align: right;\">\n",
       "      <th></th>\n",
       "      <th>_index</th>\n",
       "      <th>_type</th>\n",
       "      <th>_id</th>\n",
       "      <th>_score</th>\n",
       "      <th>_source</th>\n",
       "    </tr>\n",
       "  </thead>\n",
       "  <tbody>\n",
       "    <tr>\n",
       "      <th>0</th>\n",
       "      <td>complaint-public-v2</td>\n",
       "      <td>complaint</td>\n",
       "      <td>3211475</td>\n",
       "      <td>0</td>\n",
       "      <td>{'tags': None, 'zip_code': '90301', 'complaint...</td>\n",
       "    </tr>\n",
       "    <tr>\n",
       "      <th>1</th>\n",
       "      <td>complaint-public-v2</td>\n",
       "      <td>complaint</td>\n",
       "      <td>3229299</td>\n",
       "      <td>0</td>\n",
       "      <td>{'tags': 'Servicemember', 'zip_code': '319XX',...</td>\n",
       "    </tr>\n",
       "    <tr>\n",
       "      <th>2</th>\n",
       "      <td>complaint-public-v2</td>\n",
       "      <td>complaint</td>\n",
       "      <td>3199379</td>\n",
       "      <td>0</td>\n",
       "      <td>{'tags': None, 'zip_code': '77069', 'complaint...</td>\n",
       "    </tr>\n",
       "    <tr>\n",
       "      <th>3</th>\n",
       "      <td>complaint-public-v2</td>\n",
       "      <td>complaint</td>\n",
       "      <td>2673060</td>\n",
       "      <td>0</td>\n",
       "      <td>{'tags': None, 'zip_code': '48066', 'complaint...</td>\n",
       "    </tr>\n",
       "    <tr>\n",
       "      <th>4</th>\n",
       "      <td>complaint-public-v2</td>\n",
       "      <td>complaint</td>\n",
       "      <td>3203545</td>\n",
       "      <td>0</td>\n",
       "      <td>{'tags': None, 'zip_code': '10473', 'complaint...</td>\n",
       "    </tr>\n",
       "    <tr>\n",
       "      <th>...</th>\n",
       "      <td>...</td>\n",
       "      <td>...</td>\n",
       "      <td>...</td>\n",
       "      <td>...</td>\n",
       "      <td>...</td>\n",
       "    </tr>\n",
       "    <tr>\n",
       "      <th>78308</th>\n",
       "      <td>complaint-public-v2</td>\n",
       "      <td>complaint</td>\n",
       "      <td>3105617</td>\n",
       "      <td>0</td>\n",
       "      <td>{'tags': None, 'zip_code': '08857', 'complaint...</td>\n",
       "    </tr>\n",
       "    <tr>\n",
       "      <th>78309</th>\n",
       "      <td>complaint-public-v2</td>\n",
       "      <td>complaint</td>\n",
       "      <td>3091984</td>\n",
       "      <td>0</td>\n",
       "      <td>{'tags': None, 'zip_code': '934XX', 'complaint...</td>\n",
       "    </tr>\n",
       "    <tr>\n",
       "      <th>78310</th>\n",
       "      <td>complaint-public-v2</td>\n",
       "      <td>complaint</td>\n",
       "      <td>3133355</td>\n",
       "      <td>0</td>\n",
       "      <td>{'tags': None, 'zip_code': '923XX', 'complaint...</td>\n",
       "    </tr>\n",
       "    <tr>\n",
       "      <th>78311</th>\n",
       "      <td>complaint-public-v2</td>\n",
       "      <td>complaint</td>\n",
       "      <td>3110963</td>\n",
       "      <td>0</td>\n",
       "      <td>{'tags': None, 'zip_code': None, 'complaint_id...</td>\n",
       "    </tr>\n",
       "    <tr>\n",
       "      <th>78312</th>\n",
       "      <td>complaint-public-v2</td>\n",
       "      <td>complaint</td>\n",
       "      <td>2001189</td>\n",
       "      <td>0</td>\n",
       "      <td>{'tags': None, 'zip_code': None, 'complaint_id...</td>\n",
       "    </tr>\n",
       "  </tbody>\n",
       "</table>\n",
       "<p>78313 rows × 5 columns</p>\n",
       "</div>"
      ],
      "text/plain": [
       "                    _index      _type      _id  _score  \\\n",
       "0      complaint-public-v2  complaint  3211475       0   \n",
       "1      complaint-public-v2  complaint  3229299       0   \n",
       "2      complaint-public-v2  complaint  3199379       0   \n",
       "3      complaint-public-v2  complaint  2673060       0   \n",
       "4      complaint-public-v2  complaint  3203545       0   \n",
       "...                    ...        ...      ...     ...   \n",
       "78308  complaint-public-v2  complaint  3105617       0   \n",
       "78309  complaint-public-v2  complaint  3091984       0   \n",
       "78310  complaint-public-v2  complaint  3133355       0   \n",
       "78311  complaint-public-v2  complaint  3110963       0   \n",
       "78312  complaint-public-v2  complaint  2001189       0   \n",
       "\n",
       "                                                 _source  \n",
       "0      {'tags': None, 'zip_code': '90301', 'complaint...  \n",
       "1      {'tags': 'Servicemember', 'zip_code': '319XX',...  \n",
       "2      {'tags': None, 'zip_code': '77069', 'complaint...  \n",
       "3      {'tags': None, 'zip_code': '48066', 'complaint...  \n",
       "4      {'tags': None, 'zip_code': '10473', 'complaint...  \n",
       "...                                                  ...  \n",
       "78308  {'tags': None, 'zip_code': '08857', 'complaint...  \n",
       "78309  {'tags': None, 'zip_code': '934XX', 'complaint...  \n",
       "78310  {'tags': None, 'zip_code': '923XX', 'complaint...  \n",
       "78311  {'tags': None, 'zip_code': None, 'complaint_id...  \n",
       "78312  {'tags': None, 'zip_code': None, 'complaint_id...  \n",
       "\n",
       "[78313 rows x 5 columns]"
      ]
     },
     "execution_count": 343,
     "metadata": {},
     "output_type": "execute_result"
    }
   ],
   "source": [
    "df_raw=pd.read_json('Client_data.json')\n",
    "df_raw"
   ]
  },
  {
   "cell_type": "code",
   "execution_count": 344,
   "id": "d0b1bf0f",
   "metadata": {},
   "outputs": [],
   "source": [
    "with open('Client_data.json') as f:\n",
    "    data=json.load(f)"
   ]
  },
  {
   "cell_type": "code",
   "execution_count": 345,
   "id": "5f2ffa12",
   "metadata": {},
   "outputs": [],
   "source": [
    "df_orig=pd.json_normalize(data)"
   ]
  },
  {
   "cell_type": "code",
   "execution_count": 346,
   "id": "221d7420",
   "metadata": {},
   "outputs": [
    {
     "data": {
      "text/html": [
       "<div>\n",
       "<style scoped>\n",
       "    .dataframe tbody tr th:only-of-type {\n",
       "        vertical-align: middle;\n",
       "    }\n",
       "\n",
       "    .dataframe tbody tr th {\n",
       "        vertical-align: top;\n",
       "    }\n",
       "\n",
       "    .dataframe thead th {\n",
       "        text-align: right;\n",
       "    }\n",
       "</style>\n",
       "<table border=\"1\" class=\"dataframe\">\n",
       "  <thead>\n",
       "    <tr style=\"text-align: right;\">\n",
       "      <th></th>\n",
       "      <th>_index</th>\n",
       "      <th>_type</th>\n",
       "      <th>_id</th>\n",
       "      <th>_score</th>\n",
       "      <th>_source.tags</th>\n",
       "      <th>_source.zip_code</th>\n",
       "      <th>_source.complaint_id</th>\n",
       "      <th>_source.issue</th>\n",
       "      <th>_source.date_received</th>\n",
       "      <th>_source.state</th>\n",
       "      <th>_source.consumer_disputed</th>\n",
       "      <th>_source.product</th>\n",
       "      <th>_source.company_response</th>\n",
       "      <th>_source.company</th>\n",
       "      <th>_source.submitted_via</th>\n",
       "      <th>_source.date_sent_to_company</th>\n",
       "      <th>_source.company_public_response</th>\n",
       "      <th>_source.sub_product</th>\n",
       "      <th>_source.timely</th>\n",
       "      <th>_source.complaint_what_happened</th>\n",
       "      <th>_source.sub_issue</th>\n",
       "      <th>_source.consumer_consent_provided</th>\n",
       "    </tr>\n",
       "  </thead>\n",
       "  <tbody>\n",
       "    <tr>\n",
       "      <th>0</th>\n",
       "      <td>complaint-public-v2</td>\n",
       "      <td>complaint</td>\n",
       "      <td>3211475</td>\n",
       "      <td>0.0</td>\n",
       "      <td>None</td>\n",
       "      <td>90301</td>\n",
       "      <td>3211475</td>\n",
       "      <td>Attempts to collect debt not owed</td>\n",
       "      <td>2019-04-13T12:00:00-05:00</td>\n",
       "      <td>CA</td>\n",
       "      <td>N/A</td>\n",
       "      <td>Debt collection</td>\n",
       "      <td>Closed with explanation</td>\n",
       "      <td>JPMORGAN CHASE &amp; CO.</td>\n",
       "      <td>Web</td>\n",
       "      <td>2019-04-13T12:00:00-05:00</td>\n",
       "      <td>None</td>\n",
       "      <td>Credit card debt</td>\n",
       "      <td>Yes</td>\n",
       "      <td></td>\n",
       "      <td>Debt is not yours</td>\n",
       "      <td>Consent not provided</td>\n",
       "    </tr>\n",
       "    <tr>\n",
       "      <th>1</th>\n",
       "      <td>complaint-public-v2</td>\n",
       "      <td>complaint</td>\n",
       "      <td>3229299</td>\n",
       "      <td>0.0</td>\n",
       "      <td>Servicemember</td>\n",
       "      <td>319XX</td>\n",
       "      <td>3229299</td>\n",
       "      <td>Written notification about debt</td>\n",
       "      <td>2019-05-01T12:00:00-05:00</td>\n",
       "      <td>GA</td>\n",
       "      <td>N/A</td>\n",
       "      <td>Debt collection</td>\n",
       "      <td>Closed with explanation</td>\n",
       "      <td>JPMORGAN CHASE &amp; CO.</td>\n",
       "      <td>Web</td>\n",
       "      <td>2019-05-01T12:00:00-05:00</td>\n",
       "      <td>None</td>\n",
       "      <td>Credit card debt</td>\n",
       "      <td>Yes</td>\n",
       "      <td>Good morning my name is XXXX XXXX and I apprec...</td>\n",
       "      <td>Didn't receive enough information to verify debt</td>\n",
       "      <td>Consent provided</td>\n",
       "    </tr>\n",
       "    <tr>\n",
       "      <th>2</th>\n",
       "      <td>complaint-public-v2</td>\n",
       "      <td>complaint</td>\n",
       "      <td>3199379</td>\n",
       "      <td>0.0</td>\n",
       "      <td>None</td>\n",
       "      <td>77069</td>\n",
       "      <td>3199379</td>\n",
       "      <td>Other features, terms, or problems</td>\n",
       "      <td>2019-04-02T12:00:00-05:00</td>\n",
       "      <td>TX</td>\n",
       "      <td>N/A</td>\n",
       "      <td>Credit card or prepaid card</td>\n",
       "      <td>Closed with explanation</td>\n",
       "      <td>JPMORGAN CHASE &amp; CO.</td>\n",
       "      <td>Web</td>\n",
       "      <td>2019-04-02T12:00:00-05:00</td>\n",
       "      <td>None</td>\n",
       "      <td>General-purpose credit card or charge card</td>\n",
       "      <td>Yes</td>\n",
       "      <td>I upgraded my XXXX XXXX card in XX/XX/2018 and...</td>\n",
       "      <td>Problem with rewards from credit card</td>\n",
       "      <td>Consent provided</td>\n",
       "    </tr>\n",
       "    <tr>\n",
       "      <th>3</th>\n",
       "      <td>complaint-public-v2</td>\n",
       "      <td>complaint</td>\n",
       "      <td>2673060</td>\n",
       "      <td>0.0</td>\n",
       "      <td>None</td>\n",
       "      <td>48066</td>\n",
       "      <td>2673060</td>\n",
       "      <td>Trouble during payment process</td>\n",
       "      <td>2017-09-13T12:00:00-05:00</td>\n",
       "      <td>MI</td>\n",
       "      <td>N/A</td>\n",
       "      <td>Mortgage</td>\n",
       "      <td>Closed with explanation</td>\n",
       "      <td>JPMORGAN CHASE &amp; CO.</td>\n",
       "      <td>Web</td>\n",
       "      <td>2017-09-14T12:00:00-05:00</td>\n",
       "      <td>None</td>\n",
       "      <td>Conventional home mortgage</td>\n",
       "      <td>Yes</td>\n",
       "      <td></td>\n",
       "      <td>None</td>\n",
       "      <td>Consent not provided</td>\n",
       "    </tr>\n",
       "    <tr>\n",
       "      <th>4</th>\n",
       "      <td>complaint-public-v2</td>\n",
       "      <td>complaint</td>\n",
       "      <td>3203545</td>\n",
       "      <td>0.0</td>\n",
       "      <td>None</td>\n",
       "      <td>10473</td>\n",
       "      <td>3203545</td>\n",
       "      <td>Fees or interest</td>\n",
       "      <td>2019-04-05T12:00:00-05:00</td>\n",
       "      <td>NY</td>\n",
       "      <td>N/A</td>\n",
       "      <td>Credit card or prepaid card</td>\n",
       "      <td>Closed with explanation</td>\n",
       "      <td>JPMORGAN CHASE &amp; CO.</td>\n",
       "      <td>Referral</td>\n",
       "      <td>2019-04-05T12:00:00-05:00</td>\n",
       "      <td>None</td>\n",
       "      <td>General-purpose credit card or charge card</td>\n",
       "      <td>Yes</td>\n",
       "      <td></td>\n",
       "      <td>Charged too much interest</td>\n",
       "      <td>N/A</td>\n",
       "    </tr>\n",
       "  </tbody>\n",
       "</table>\n",
       "</div>"
      ],
      "text/plain": [
       "                _index      _type      _id  _score   _source.tags  \\\n",
       "0  complaint-public-v2  complaint  3211475     0.0           None   \n",
       "1  complaint-public-v2  complaint  3229299     0.0  Servicemember   \n",
       "2  complaint-public-v2  complaint  3199379     0.0           None   \n",
       "3  complaint-public-v2  complaint  2673060     0.0           None   \n",
       "4  complaint-public-v2  complaint  3203545     0.0           None   \n",
       "\n",
       "  _source.zip_code _source.complaint_id                       _source.issue  \\\n",
       "0            90301              3211475   Attempts to collect debt not owed   \n",
       "1            319XX              3229299     Written notification about debt   \n",
       "2            77069              3199379  Other features, terms, or problems   \n",
       "3            48066              2673060      Trouble during payment process   \n",
       "4            10473              3203545                    Fees or interest   \n",
       "\n",
       "       _source.date_received _source.state _source.consumer_disputed  \\\n",
       "0  2019-04-13T12:00:00-05:00            CA                       N/A   \n",
       "1  2019-05-01T12:00:00-05:00            GA                       N/A   \n",
       "2  2019-04-02T12:00:00-05:00            TX                       N/A   \n",
       "3  2017-09-13T12:00:00-05:00            MI                       N/A   \n",
       "4  2019-04-05T12:00:00-05:00            NY                       N/A   \n",
       "\n",
       "               _source.product _source.company_response       _source.company  \\\n",
       "0              Debt collection  Closed with explanation  JPMORGAN CHASE & CO.   \n",
       "1              Debt collection  Closed with explanation  JPMORGAN CHASE & CO.   \n",
       "2  Credit card or prepaid card  Closed with explanation  JPMORGAN CHASE & CO.   \n",
       "3                     Mortgage  Closed with explanation  JPMORGAN CHASE & CO.   \n",
       "4  Credit card or prepaid card  Closed with explanation  JPMORGAN CHASE & CO.   \n",
       "\n",
       "  _source.submitted_via _source.date_sent_to_company  \\\n",
       "0                   Web    2019-04-13T12:00:00-05:00   \n",
       "1                   Web    2019-05-01T12:00:00-05:00   \n",
       "2                   Web    2019-04-02T12:00:00-05:00   \n",
       "3                   Web    2017-09-14T12:00:00-05:00   \n",
       "4              Referral    2019-04-05T12:00:00-05:00   \n",
       "\n",
       "  _source.company_public_response                         _source.sub_product  \\\n",
       "0                            None                            Credit card debt   \n",
       "1                            None                            Credit card debt   \n",
       "2                            None  General-purpose credit card or charge card   \n",
       "3                            None                  Conventional home mortgage   \n",
       "4                            None  General-purpose credit card or charge card   \n",
       "\n",
       "  _source.timely                    _source.complaint_what_happened  \\\n",
       "0            Yes                                                      \n",
       "1            Yes  Good morning my name is XXXX XXXX and I apprec...   \n",
       "2            Yes  I upgraded my XXXX XXXX card in XX/XX/2018 and...   \n",
       "3            Yes                                                      \n",
       "4            Yes                                                      \n",
       "\n",
       "                                  _source.sub_issue  \\\n",
       "0                                 Debt is not yours   \n",
       "1  Didn't receive enough information to verify debt   \n",
       "2             Problem with rewards from credit card   \n",
       "3                                              None   \n",
       "4                         Charged too much interest   \n",
       "\n",
       "  _source.consumer_consent_provided  \n",
       "0              Consent not provided  \n",
       "1                  Consent provided  \n",
       "2                  Consent provided  \n",
       "3              Consent not provided  \n",
       "4                               N/A  "
      ]
     },
     "execution_count": 346,
     "metadata": {},
     "output_type": "execute_result"
    }
   ],
   "source": [
    "df_orig.head(5)"
   ]
  },
  {
   "cell_type": "code",
   "execution_count": 347,
   "id": "8c21ef16",
   "metadata": {},
   "outputs": [
    {
     "name": "stdout",
     "output_type": "stream",
     "text": [
      "<class 'pandas.core.frame.DataFrame'>\n",
      "RangeIndex: 78313 entries, 0 to 78312\n",
      "Data columns (total 22 columns):\n",
      " #   Column                             Non-Null Count  Dtype  \n",
      "---  ------                             --------------  -----  \n",
      " 0   _index                             78313 non-null  object \n",
      " 1   _type                              78313 non-null  object \n",
      " 2   _id                                78313 non-null  object \n",
      " 3   _score                             78313 non-null  float64\n",
      " 4   _source.tags                       10900 non-null  object \n",
      " 5   _source.zip_code                   71556 non-null  object \n",
      " 6   _source.complaint_id               78313 non-null  object \n",
      " 7   _source.issue                      78313 non-null  object \n",
      " 8   _source.date_received              78313 non-null  object \n",
      " 9   _source.state                      76322 non-null  object \n",
      " 10  _source.consumer_disputed          78313 non-null  object \n",
      " 11  _source.product                    78313 non-null  object \n",
      " 12  _source.company_response           78313 non-null  object \n",
      " 13  _source.company                    78313 non-null  object \n",
      " 14  _source.submitted_via              78313 non-null  object \n",
      " 15  _source.date_sent_to_company       78313 non-null  object \n",
      " 16  _source.company_public_response    4 non-null      object \n",
      " 17  _source.sub_product                67742 non-null  object \n",
      " 18  _source.timely                     78313 non-null  object \n",
      " 19  _source.complaint_what_happened    78313 non-null  object \n",
      " 20  _source.sub_issue                  32016 non-null  object \n",
      " 21  _source.consumer_consent_provided  77305 non-null  object \n",
      "dtypes: float64(1), object(21)\n",
      "memory usage: 13.1+ MB\n"
     ]
    }
   ],
   "source": [
    "df_orig.info()"
   ]
  },
  {
   "cell_type": "code",
   "execution_count": 348,
   "id": "a67fe38e",
   "metadata": {},
   "outputs": [
    {
     "data": {
      "text/html": [
       "<div>\n",
       "<style scoped>\n",
       "    .dataframe tbody tr th:only-of-type {\n",
       "        vertical-align: middle;\n",
       "    }\n",
       "\n",
       "    .dataframe tbody tr th {\n",
       "        vertical-align: top;\n",
       "    }\n",
       "\n",
       "    .dataframe thead th {\n",
       "        text-align: right;\n",
       "    }\n",
       "</style>\n",
       "<table border=\"1\" class=\"dataframe\">\n",
       "  <thead>\n",
       "    <tr style=\"text-align: right;\">\n",
       "      <th></th>\n",
       "      <th>_source.complaint_what_happened</th>\n",
       "      <th>_source.product</th>\n",
       "      <th>_source.sub_product</th>\n",
       "    </tr>\n",
       "  </thead>\n",
       "  <tbody>\n",
       "    <tr>\n",
       "      <th>0</th>\n",
       "      <td></td>\n",
       "      <td>Debt collection</td>\n",
       "      <td>Credit card debt</td>\n",
       "    </tr>\n",
       "    <tr>\n",
       "      <th>1</th>\n",
       "      <td>Good morning my name is XXXX XXXX and I apprec...</td>\n",
       "      <td>Debt collection</td>\n",
       "      <td>Credit card debt</td>\n",
       "    </tr>\n",
       "    <tr>\n",
       "      <th>2</th>\n",
       "      <td>I upgraded my XXXX XXXX card in XX/XX/2018 and...</td>\n",
       "      <td>Credit card or prepaid card</td>\n",
       "      <td>General-purpose credit card or charge card</td>\n",
       "    </tr>\n",
       "    <tr>\n",
       "      <th>3</th>\n",
       "      <td></td>\n",
       "      <td>Mortgage</td>\n",
       "      <td>Conventional home mortgage</td>\n",
       "    </tr>\n",
       "    <tr>\n",
       "      <th>4</th>\n",
       "      <td></td>\n",
       "      <td>Credit card or prepaid card</td>\n",
       "      <td>General-purpose credit card or charge card</td>\n",
       "    </tr>\n",
       "    <tr>\n",
       "      <th>...</th>\n",
       "      <td>...</td>\n",
       "      <td>...</td>\n",
       "      <td>...</td>\n",
       "    </tr>\n",
       "    <tr>\n",
       "      <th>78308</th>\n",
       "      <td></td>\n",
       "      <td>Checking or savings account</td>\n",
       "      <td>Checking account</td>\n",
       "    </tr>\n",
       "    <tr>\n",
       "      <th>78309</th>\n",
       "      <td>On Wednesday, XX/XX/XXXX I called Chas, my XXX...</td>\n",
       "      <td>Credit card or prepaid card</td>\n",
       "      <td>General-purpose credit card or charge card</td>\n",
       "    </tr>\n",
       "    <tr>\n",
       "      <th>78310</th>\n",
       "      <td>I am not familiar with XXXX pay and did not un...</td>\n",
       "      <td>Checking or savings account</td>\n",
       "      <td>Checking account</td>\n",
       "    </tr>\n",
       "    <tr>\n",
       "      <th>78311</th>\n",
       "      <td>I have had flawless credit for 30 yrs. I've ha...</td>\n",
       "      <td>Credit card or prepaid card</td>\n",
       "      <td>General-purpose credit card or charge card</td>\n",
       "    </tr>\n",
       "    <tr>\n",
       "      <th>78312</th>\n",
       "      <td>Roughly 10+ years ago I closed out my accounts...</td>\n",
       "      <td>Payday loan</td>\n",
       "      <td>None</td>\n",
       "    </tr>\n",
       "  </tbody>\n",
       "</table>\n",
       "<p>78313 rows × 3 columns</p>\n",
       "</div>"
      ],
      "text/plain": [
       "                         _source.complaint_what_happened  \\\n",
       "0                                                          \n",
       "1      Good morning my name is XXXX XXXX and I apprec...   \n",
       "2      I upgraded my XXXX XXXX card in XX/XX/2018 and...   \n",
       "3                                                          \n",
       "4                                                          \n",
       "...                                                  ...   \n",
       "78308                                                      \n",
       "78309  On Wednesday, XX/XX/XXXX I called Chas, my XXX...   \n",
       "78310  I am not familiar with XXXX pay and did not un...   \n",
       "78311  I have had flawless credit for 30 yrs. I've ha...   \n",
       "78312  Roughly 10+ years ago I closed out my accounts...   \n",
       "\n",
       "                   _source.product                         _source.sub_product  \n",
       "0                  Debt collection                            Credit card debt  \n",
       "1                  Debt collection                            Credit card debt  \n",
       "2      Credit card or prepaid card  General-purpose credit card or charge card  \n",
       "3                         Mortgage                  Conventional home mortgage  \n",
       "4      Credit card or prepaid card  General-purpose credit card or charge card  \n",
       "...                            ...                                         ...  \n",
       "78308  Checking or savings account                            Checking account  \n",
       "78309  Credit card or prepaid card  General-purpose credit card or charge card  \n",
       "78310  Checking or savings account                            Checking account  \n",
       "78311  Credit card or prepaid card  General-purpose credit card or charge card  \n",
       "78312                  Payday loan                                        None  \n",
       "\n",
       "[78313 rows x 3 columns]"
      ]
     },
     "execution_count": 348,
     "metadata": {},
     "output_type": "execute_result"
    }
   ],
   "source": [
    "df1=df_orig[['_source.complaint_what_happened','_source.product','_source.sub_product']]\n",
    "df1"
   ]
  },
  {
   "cell_type": "code",
   "execution_count": 349,
   "id": "07f680ca",
   "metadata": {},
   "outputs": [],
   "source": [
    "df1=df1.rename(columns={'_source.complaint_what_happened':'complaint_text','_source.product':'catagory','_source.sub_product':'sub_catogory'})"
   ]
  },
  {
   "cell_type": "code",
   "execution_count": 350,
   "id": "700961dc",
   "metadata": {},
   "outputs": [
    {
     "data": {
      "text/html": [
       "<div>\n",
       "<style scoped>\n",
       "    .dataframe tbody tr th:only-of-type {\n",
       "        vertical-align: middle;\n",
       "    }\n",
       "\n",
       "    .dataframe tbody tr th {\n",
       "        vertical-align: top;\n",
       "    }\n",
       "\n",
       "    .dataframe thead th {\n",
       "        text-align: right;\n",
       "    }\n",
       "</style>\n",
       "<table border=\"1\" class=\"dataframe\">\n",
       "  <thead>\n",
       "    <tr style=\"text-align: right;\">\n",
       "      <th></th>\n",
       "      <th>complaint_text</th>\n",
       "      <th>catagory</th>\n",
       "      <th>sub_catogory</th>\n",
       "    </tr>\n",
       "  </thead>\n",
       "  <tbody>\n",
       "    <tr>\n",
       "      <th>0</th>\n",
       "      <td></td>\n",
       "      <td>Debt collection</td>\n",
       "      <td>Credit card debt</td>\n",
       "    </tr>\n",
       "    <tr>\n",
       "      <th>1</th>\n",
       "      <td>Good morning my name is XXXX XXXX and I apprec...</td>\n",
       "      <td>Debt collection</td>\n",
       "      <td>Credit card debt</td>\n",
       "    </tr>\n",
       "    <tr>\n",
       "      <th>2</th>\n",
       "      <td>I upgraded my XXXX XXXX card in XX/XX/2018 and...</td>\n",
       "      <td>Credit card or prepaid card</td>\n",
       "      <td>General-purpose credit card or charge card</td>\n",
       "    </tr>\n",
       "    <tr>\n",
       "      <th>3</th>\n",
       "      <td></td>\n",
       "      <td>Mortgage</td>\n",
       "      <td>Conventional home mortgage</td>\n",
       "    </tr>\n",
       "    <tr>\n",
       "      <th>4</th>\n",
       "      <td></td>\n",
       "      <td>Credit card or prepaid card</td>\n",
       "      <td>General-purpose credit card or charge card</td>\n",
       "    </tr>\n",
       "  </tbody>\n",
       "</table>\n",
       "</div>"
      ],
      "text/plain": [
       "                                      complaint_text  \\\n",
       "0                                                      \n",
       "1  Good morning my name is XXXX XXXX and I apprec...   \n",
       "2  I upgraded my XXXX XXXX card in XX/XX/2018 and...   \n",
       "3                                                      \n",
       "4                                                      \n",
       "\n",
       "                      catagory                                sub_catogory  \n",
       "0              Debt collection                            Credit card debt  \n",
       "1              Debt collection                            Credit card debt  \n",
       "2  Credit card or prepaid card  General-purpose credit card or charge card  \n",
       "3                     Mortgage                  Conventional home mortgage  \n",
       "4  Credit card or prepaid card  General-purpose credit card or charge card  "
      ]
     },
     "execution_count": 350,
     "metadata": {},
     "output_type": "execute_result"
    }
   ],
   "source": [
    "df1.head(5)"
   ]
  },
  {
   "cell_type": "markdown",
   "id": "dc2da4ec",
   "metadata": {},
   "source": [
    "## Text Preprocessing"
   ]
  },
  {
   "cell_type": "code",
   "execution_count": 351,
   "id": "7b255aa5",
   "metadata": {},
   "outputs": [
    {
     "data": {
      "text/plain": [
       "'Good morning my name is XXXX XXXX and I appreciate it if you could help me put a stop to Chase Bank cardmember services. \\nIn 2018 I wrote to Chase asking for debt verification and what they sent me a statement which is not acceptable. I am asking the bank to validate the debt. Instead I been receiving mail every month from them attempting to collect a debt. \\nI have a right to know this information as a consumer. \\n\\nChase account # XXXX XXXX XXXX XXXX Thanks in advance for your help.'"
      ]
     },
     "execution_count": 351,
     "metadata": {},
     "output_type": "execute_result"
    }
   ],
   "source": [
    "df1.complaint_text[1]"
   ]
  },
  {
   "cell_type": "code",
   "execution_count": 352,
   "id": "c6d697af",
   "metadata": {},
   "outputs": [
    {
     "data": {
      "text/plain": [
       "0                                                         \n",
       "1        Good morning my name is XXXX XXXX and I apprec...\n",
       "2        I upgraded my XXXX XXXX card in XX/XX/2018 and...\n",
       "3                                                         \n",
       "4                                                         \n",
       "                               ...                        \n",
       "78308                                                     \n",
       "78309    On Wednesday, XX/XX/XXXX I called Chas, my XXX...\n",
       "78310    I am not familiar with XXXX pay and did not un...\n",
       "78311    I have had flawless credit for 30 yrs. I've ha...\n",
       "78312    Roughly 10+ years ago I closed out my accounts...\n",
       "Name: complaint_text, Length: 78313, dtype: object"
      ]
     },
     "execution_count": 352,
     "metadata": {},
     "output_type": "execute_result"
    }
   ],
   "source": [
    "df1.complaint_text"
   ]
  },
  {
   "cell_type": "code",
   "execution_count": 353,
   "id": "7ee8cb17",
   "metadata": {},
   "outputs": [
    {
     "data": {
      "text/plain": [
       "57241"
      ]
     },
     "execution_count": 353,
     "metadata": {},
     "output_type": "execute_result"
    }
   ],
   "source": [
    "empty_text=''\n",
    "len(df1.complaint_text.loc[(df1.complaint_text) == empty_text])"
   ]
  },
  {
   "cell_type": "code",
   "execution_count": 354,
   "id": "034eb685",
   "metadata": {},
   "outputs": [
    {
     "data": {
      "text/plain": [
       "1        Good morning my name is XXXX XXXX and I apprec...\n",
       "2        I upgraded my XXXX XXXX card in XX/XX/2018 and...\n",
       "10       Chase Card was reported on XX/XX/2019. However...\n",
       "11       On XX/XX/2018, while trying to book a XXXX  XX...\n",
       "14       my grand son give me check for {$1600.00} i de...\n",
       "                               ...                        \n",
       "78303    After being a Chase Card customer for well ove...\n",
       "78309    On Wednesday, XX/XX/XXXX I called Chas, my XXX...\n",
       "78310    I am not familiar with XXXX pay and did not un...\n",
       "78311    I have had flawless credit for 30 yrs. I've ha...\n",
       "78312    Roughly 10+ years ago I closed out my accounts...\n",
       "Name: complaint_text, Length: 21072, dtype: object"
      ]
     },
     "execution_count": 354,
     "metadata": {},
     "output_type": "execute_result"
    }
   ],
   "source": [
    "empty_text=''\n",
    "(df1.complaint_text.loc[(df1.complaint_text) != empty_text]) "
   ]
  },
  {
   "cell_type": "code",
   "execution_count": 355,
   "id": "96e91068",
   "metadata": {},
   "outputs": [],
   "source": [
    "df1['complaint_text'].replace('',np.nan, inplace=True)"
   ]
  },
  {
   "cell_type": "code",
   "execution_count": 356,
   "id": "0c54f5d8",
   "metadata": {},
   "outputs": [],
   "source": [
    "df1.dropna(subset=['complaint_text'], inplace=True)"
   ]
  },
  {
   "cell_type": "code",
   "execution_count": 357,
   "id": "485083f7",
   "metadata": {},
   "outputs": [
    {
     "data": {
      "text/html": [
       "<div>\n",
       "<style scoped>\n",
       "    .dataframe tbody tr th:only-of-type {\n",
       "        vertical-align: middle;\n",
       "    }\n",
       "\n",
       "    .dataframe tbody tr th {\n",
       "        vertical-align: top;\n",
       "    }\n",
       "\n",
       "    .dataframe thead th {\n",
       "        text-align: right;\n",
       "    }\n",
       "</style>\n",
       "<table border=\"1\" class=\"dataframe\">\n",
       "  <thead>\n",
       "    <tr style=\"text-align: right;\">\n",
       "      <th></th>\n",
       "      <th>complaint_text</th>\n",
       "      <th>catagory</th>\n",
       "      <th>sub_catogory</th>\n",
       "    </tr>\n",
       "  </thead>\n",
       "  <tbody>\n",
       "    <tr>\n",
       "      <th>1</th>\n",
       "      <td>Good morning my name is XXXX XXXX and I apprec...</td>\n",
       "      <td>Debt collection</td>\n",
       "      <td>Credit card debt</td>\n",
       "    </tr>\n",
       "    <tr>\n",
       "      <th>2</th>\n",
       "      <td>I upgraded my XXXX XXXX card in XX/XX/2018 and...</td>\n",
       "      <td>Credit card or prepaid card</td>\n",
       "      <td>General-purpose credit card or charge card</td>\n",
       "    </tr>\n",
       "    <tr>\n",
       "      <th>10</th>\n",
       "      <td>Chase Card was reported on XX/XX/2019. However...</td>\n",
       "      <td>Credit reporting, credit repair services, or o...</td>\n",
       "      <td>Other personal consumer report</td>\n",
       "    </tr>\n",
       "    <tr>\n",
       "      <th>11</th>\n",
       "      <td>On XX/XX/2018, while trying to book a XXXX  XX...</td>\n",
       "      <td>Credit reporting, credit repair services, or o...</td>\n",
       "      <td>Credit reporting</td>\n",
       "    </tr>\n",
       "    <tr>\n",
       "      <th>14</th>\n",
       "      <td>my grand son give me check for {$1600.00} i de...</td>\n",
       "      <td>Checking or savings account</td>\n",
       "      <td>Checking account</td>\n",
       "    </tr>\n",
       "    <tr>\n",
       "      <th>...</th>\n",
       "      <td>...</td>\n",
       "      <td>...</td>\n",
       "      <td>...</td>\n",
       "    </tr>\n",
       "    <tr>\n",
       "      <th>78303</th>\n",
       "      <td>After being a Chase Card customer for well ove...</td>\n",
       "      <td>Credit card or prepaid card</td>\n",
       "      <td>General-purpose credit card or charge card</td>\n",
       "    </tr>\n",
       "    <tr>\n",
       "      <th>78309</th>\n",
       "      <td>On Wednesday, XX/XX/XXXX I called Chas, my XXX...</td>\n",
       "      <td>Credit card or prepaid card</td>\n",
       "      <td>General-purpose credit card or charge card</td>\n",
       "    </tr>\n",
       "    <tr>\n",
       "      <th>78310</th>\n",
       "      <td>I am not familiar with XXXX pay and did not un...</td>\n",
       "      <td>Checking or savings account</td>\n",
       "      <td>Checking account</td>\n",
       "    </tr>\n",
       "    <tr>\n",
       "      <th>78311</th>\n",
       "      <td>I have had flawless credit for 30 yrs. I've ha...</td>\n",
       "      <td>Credit card or prepaid card</td>\n",
       "      <td>General-purpose credit card or charge card</td>\n",
       "    </tr>\n",
       "    <tr>\n",
       "      <th>78312</th>\n",
       "      <td>Roughly 10+ years ago I closed out my accounts...</td>\n",
       "      <td>Payday loan</td>\n",
       "      <td>None</td>\n",
       "    </tr>\n",
       "  </tbody>\n",
       "</table>\n",
       "<p>21072 rows × 3 columns</p>\n",
       "</div>"
      ],
      "text/plain": [
       "                                          complaint_text  \\\n",
       "1      Good morning my name is XXXX XXXX and I apprec...   \n",
       "2      I upgraded my XXXX XXXX card in XX/XX/2018 and...   \n",
       "10     Chase Card was reported on XX/XX/2019. However...   \n",
       "11     On XX/XX/2018, while trying to book a XXXX  XX...   \n",
       "14     my grand son give me check for {$1600.00} i de...   \n",
       "...                                                  ...   \n",
       "78303  After being a Chase Card customer for well ove...   \n",
       "78309  On Wednesday, XX/XX/XXXX I called Chas, my XXX...   \n",
       "78310  I am not familiar with XXXX pay and did not un...   \n",
       "78311  I have had flawless credit for 30 yrs. I've ha...   \n",
       "78312  Roughly 10+ years ago I closed out my accounts...   \n",
       "\n",
       "                                                catagory  \\\n",
       "1                                        Debt collection   \n",
       "2                            Credit card or prepaid card   \n",
       "10     Credit reporting, credit repair services, or o...   \n",
       "11     Credit reporting, credit repair services, or o...   \n",
       "14                           Checking or savings account   \n",
       "...                                                  ...   \n",
       "78303                        Credit card or prepaid card   \n",
       "78309                        Credit card or prepaid card   \n",
       "78310                        Checking or savings account   \n",
       "78311                        Credit card or prepaid card   \n",
       "78312                                        Payday loan   \n",
       "\n",
       "                                     sub_catogory  \n",
       "1                                Credit card debt  \n",
       "2      General-purpose credit card or charge card  \n",
       "10                 Other personal consumer report  \n",
       "11                               Credit reporting  \n",
       "14                               Checking account  \n",
       "...                                           ...  \n",
       "78303  General-purpose credit card or charge card  \n",
       "78309  General-purpose credit card or charge card  \n",
       "78310                            Checking account  \n",
       "78311  General-purpose credit card or charge card  \n",
       "78312                                        None  \n",
       "\n",
       "[21072 rows x 3 columns]"
      ]
     },
     "execution_count": 357,
     "metadata": {},
     "output_type": "execute_result"
    }
   ],
   "source": [
    "df1"
   ]
  },
  {
   "cell_type": "code",
   "execution_count": 358,
   "id": "9f49c438",
   "metadata": {},
   "outputs": [
    {
     "data": {
      "text/html": [
       "<div>\n",
       "<style scoped>\n",
       "    .dataframe tbody tr th:only-of-type {\n",
       "        vertical-align: middle;\n",
       "    }\n",
       "\n",
       "    .dataframe tbody tr th {\n",
       "        vertical-align: top;\n",
       "    }\n",
       "\n",
       "    .dataframe thead th {\n",
       "        text-align: right;\n",
       "    }\n",
       "</style>\n",
       "<table border=\"1\" class=\"dataframe\">\n",
       "  <thead>\n",
       "    <tr style=\"text-align: right;\">\n",
       "      <th></th>\n",
       "      <th>complaint_text</th>\n",
       "      <th>catagory</th>\n",
       "      <th>sub_catogory</th>\n",
       "    </tr>\n",
       "  </thead>\n",
       "  <tbody>\n",
       "    <tr>\n",
       "      <th>0</th>\n",
       "      <td>Good morning my name is XXXX XXXX and I apprec...</td>\n",
       "      <td>Debt collection</td>\n",
       "      <td>Credit card debt</td>\n",
       "    </tr>\n",
       "    <tr>\n",
       "      <th>1</th>\n",
       "      <td>I upgraded my XXXX XXXX card in XX/XX/2018 and...</td>\n",
       "      <td>Credit card or prepaid card</td>\n",
       "      <td>General-purpose credit card or charge card</td>\n",
       "    </tr>\n",
       "    <tr>\n",
       "      <th>2</th>\n",
       "      <td>Chase Card was reported on XX/XX/2019. However...</td>\n",
       "      <td>Credit reporting, credit repair services, or o...</td>\n",
       "      <td>Other personal consumer report</td>\n",
       "    </tr>\n",
       "    <tr>\n",
       "      <th>3</th>\n",
       "      <td>On XX/XX/2018, while trying to book a XXXX  XX...</td>\n",
       "      <td>Credit reporting, credit repair services, or o...</td>\n",
       "      <td>Credit reporting</td>\n",
       "    </tr>\n",
       "    <tr>\n",
       "      <th>4</th>\n",
       "      <td>my grand son give me check for {$1600.00} i de...</td>\n",
       "      <td>Checking or savings account</td>\n",
       "      <td>Checking account</td>\n",
       "    </tr>\n",
       "  </tbody>\n",
       "</table>\n",
       "</div>"
      ],
      "text/plain": [
       "                                      complaint_text  \\\n",
       "0  Good morning my name is XXXX XXXX and I apprec...   \n",
       "1  I upgraded my XXXX XXXX card in XX/XX/2018 and...   \n",
       "2  Chase Card was reported on XX/XX/2019. However...   \n",
       "3  On XX/XX/2018, while trying to book a XXXX  XX...   \n",
       "4  my grand son give me check for {$1600.00} i de...   \n",
       "\n",
       "                                            catagory  \\\n",
       "0                                    Debt collection   \n",
       "1                        Credit card or prepaid card   \n",
       "2  Credit reporting, credit repair services, or o...   \n",
       "3  Credit reporting, credit repair services, or o...   \n",
       "4                        Checking or savings account   \n",
       "\n",
       "                                 sub_catogory  \n",
       "0                            Credit card debt  \n",
       "1  General-purpose credit card or charge card  \n",
       "2              Other personal consumer report  \n",
       "3                            Credit reporting  \n",
       "4                            Checking account  "
      ]
     },
     "execution_count": 358,
     "metadata": {},
     "output_type": "execute_result"
    }
   ],
   "source": [
    "df1 = df1.reset_index(drop=True)\n",
    "df1.head()"
   ]
  },
  {
   "cell_type": "code",
   "execution_count": 359,
   "id": "b57727bf",
   "metadata": {},
   "outputs": [],
   "source": [
    "df1.insert(0,'Dummy_ID', range(0,0 + len(df1)))"
   ]
  },
  {
   "cell_type": "code",
   "execution_count": 360,
   "id": "c4677de0",
   "metadata": {},
   "outputs": [
    {
     "data": {
      "text/html": [
       "<div>\n",
       "<style scoped>\n",
       "    .dataframe tbody tr th:only-of-type {\n",
       "        vertical-align: middle;\n",
       "    }\n",
       "\n",
       "    .dataframe tbody tr th {\n",
       "        vertical-align: top;\n",
       "    }\n",
       "\n",
       "    .dataframe thead th {\n",
       "        text-align: right;\n",
       "    }\n",
       "</style>\n",
       "<table border=\"1\" class=\"dataframe\">\n",
       "  <thead>\n",
       "    <tr style=\"text-align: right;\">\n",
       "      <th></th>\n",
       "      <th>Dummy_ID</th>\n",
       "      <th>complaint_text</th>\n",
       "      <th>catagory</th>\n",
       "      <th>sub_catogory</th>\n",
       "    </tr>\n",
       "  </thead>\n",
       "  <tbody>\n",
       "    <tr>\n",
       "      <th>0</th>\n",
       "      <td>0</td>\n",
       "      <td>Good morning my name is XXXX XXXX and I apprec...</td>\n",
       "      <td>Debt collection</td>\n",
       "      <td>Credit card debt</td>\n",
       "    </tr>\n",
       "    <tr>\n",
       "      <th>1</th>\n",
       "      <td>1</td>\n",
       "      <td>I upgraded my XXXX XXXX card in XX/XX/2018 and...</td>\n",
       "      <td>Credit card or prepaid card</td>\n",
       "      <td>General-purpose credit card or charge card</td>\n",
       "    </tr>\n",
       "    <tr>\n",
       "      <th>2</th>\n",
       "      <td>2</td>\n",
       "      <td>Chase Card was reported on XX/XX/2019. However...</td>\n",
       "      <td>Credit reporting, credit repair services, or o...</td>\n",
       "      <td>Other personal consumer report</td>\n",
       "    </tr>\n",
       "    <tr>\n",
       "      <th>3</th>\n",
       "      <td>3</td>\n",
       "      <td>On XX/XX/2018, while trying to book a XXXX  XX...</td>\n",
       "      <td>Credit reporting, credit repair services, or o...</td>\n",
       "      <td>Credit reporting</td>\n",
       "    </tr>\n",
       "    <tr>\n",
       "      <th>4</th>\n",
       "      <td>4</td>\n",
       "      <td>my grand son give me check for {$1600.00} i de...</td>\n",
       "      <td>Checking or savings account</td>\n",
       "      <td>Checking account</td>\n",
       "    </tr>\n",
       "  </tbody>\n",
       "</table>\n",
       "</div>"
      ],
      "text/plain": [
       "   Dummy_ID                                     complaint_text  \\\n",
       "0         0  Good morning my name is XXXX XXXX and I apprec...   \n",
       "1         1  I upgraded my XXXX XXXX card in XX/XX/2018 and...   \n",
       "2         2  Chase Card was reported on XX/XX/2019. However...   \n",
       "3         3  On XX/XX/2018, while trying to book a XXXX  XX...   \n",
       "4         4  my grand son give me check for {$1600.00} i de...   \n",
       "\n",
       "                                            catagory  \\\n",
       "0                                    Debt collection   \n",
       "1                        Credit card or prepaid card   \n",
       "2  Credit reporting, credit repair services, or o...   \n",
       "3  Credit reporting, credit repair services, or o...   \n",
       "4                        Checking or savings account   \n",
       "\n",
       "                                 sub_catogory  \n",
       "0                            Credit card debt  \n",
       "1  General-purpose credit card or charge card  \n",
       "2              Other personal consumer report  \n",
       "3                            Credit reporting  \n",
       "4                            Checking account  "
      ]
     },
     "execution_count": 360,
     "metadata": {},
     "output_type": "execute_result"
    }
   ],
   "source": [
    "df1.head(5)"
   ]
  },
  {
   "cell_type": "code",
   "execution_count": 361,
   "id": "9ed733f0",
   "metadata": {},
   "outputs": [],
   "source": [
    "df1.to_pickle('df1_preprocess_1')"
   ]
  },
  {
   "cell_type": "code",
   "execution_count": 362,
   "id": "b486f50c",
   "metadata": {},
   "outputs": [],
   "source": [
    "df2=df1.loc[:,['complaint_text','Dummy_ID']]"
   ]
  },
  {
   "cell_type": "code",
   "execution_count": 363,
   "id": "0d44ad17",
   "metadata": {},
   "outputs": [
    {
     "data": {
      "text/plain": [
       "0        Good morning my name is XXXX XXXX and I apprec...\n",
       "1        I upgraded my XXXX XXXX card in XX/XX/2018 and...\n",
       "2        Chase Card was reported on XX/XX/2019. However...\n",
       "3        On XX/XX/2018, while trying to book a XXXX  XX...\n",
       "4        my grand son give me check for {$1600.00} i de...\n",
       "                               ...                        \n",
       "21067    After being a Chase Card customer for well ove...\n",
       "21068    On Wednesday, XX/XX/XXXX I called Chas, my XXX...\n",
       "21069    I am not familiar with XXXX pay and did not un...\n",
       "21070    I have had flawless credit for 30 yrs. I've ha...\n",
       "21071    Roughly 10+ years ago I closed out my accounts...\n",
       "Name: complaint_text, Length: 21072, dtype: object"
      ]
     },
     "execution_count": 363,
     "metadata": {},
     "output_type": "execute_result"
    }
   ],
   "source": [
    "df2['complaint_text']"
   ]
  },
  {
   "cell_type": "code",
   "execution_count": 364,
   "id": "80ea8455",
   "metadata": {},
   "outputs": [
    {
     "data": {
      "text/html": [
       "<div>\n",
       "<style scoped>\n",
       "    .dataframe tbody tr th:only-of-type {\n",
       "        vertical-align: middle;\n",
       "    }\n",
       "\n",
       "    .dataframe tbody tr th {\n",
       "        vertical-align: top;\n",
       "    }\n",
       "\n",
       "    .dataframe thead th {\n",
       "        text-align: right;\n",
       "    }\n",
       "</style>\n",
       "<table border=\"1\" class=\"dataframe\">\n",
       "  <thead>\n",
       "    <tr style=\"text-align: right;\">\n",
       "      <th></th>\n",
       "      <th>complaint_text</th>\n",
       "      <th>Dummy_ID</th>\n",
       "    </tr>\n",
       "  </thead>\n",
       "  <tbody>\n",
       "    <tr>\n",
       "      <th>0</th>\n",
       "      <td>Good morning my name is   and I appreciate it ...</td>\n",
       "      <td>0</td>\n",
       "    </tr>\n",
       "    <tr>\n",
       "      <th>1</th>\n",
       "      <td>I upgraded my   card in 2018 and was told by t...</td>\n",
       "      <td>1</td>\n",
       "    </tr>\n",
       "    <tr>\n",
       "      <th>2</th>\n",
       "      <td>Chase Card was reported on 2019 However fraudu...</td>\n",
       "      <td>2</td>\n",
       "    </tr>\n",
       "    <tr>\n",
       "      <th>3</th>\n",
       "      <td>On 2018 while trying to book a     ticket I ca...</td>\n",
       "      <td>3</td>\n",
       "    </tr>\n",
       "    <tr>\n",
       "      <th>4</th>\n",
       "      <td>my grand son give me check for 160000 i deposi...</td>\n",
       "      <td>4</td>\n",
       "    </tr>\n",
       "  </tbody>\n",
       "</table>\n",
       "</div>"
      ],
      "text/plain": [
       "                                      complaint_text  Dummy_ID\n",
       "0  Good morning my name is   and I appreciate it ...         0\n",
       "1  I upgraded my   card in 2018 and was told by t...         1\n",
       "2  Chase Card was reported on 2019 However fraudu...         2\n",
       "3  On 2018 while trying to book a     ticket I ca...         3\n",
       "4  my grand son give me check for 160000 i deposi...         4"
      ]
     },
     "execution_count": 364,
     "metadata": {},
     "output_type": "execute_result"
    }
   ],
   "source": [
    "import re\n",
    "df2['complaint_text'] = df2['complaint_text'].str.replace('X','')\n",
    "df2['complaint_text'] = df2['complaint_text'].str.replace('\\n', '')\n",
    "df2['complaint_text'] = df2['complaint_text'].str.replace('#', '')\n",
    "df2['complaint_text'] = df2['complaint_text'].str.replace('/', '')\n",
    "df2['complaint_text'] = df2['complaint_text'].str.replace('!', '')\n",
    "df2['complaint_text'] = df2['complaint_text'].str.replace(\"'\",'')\n",
    "df2['complaint_text'] = df2['complaint_text'].str.replace('{', '')\n",
    "df2['complaint_text'] = df2['complaint_text'].str.replace('}', '')\n",
    "df2['complaint_text'] = df2['complaint_text'].str.replace('$', '')\n",
    "df2['complaint_text'] = df2['complaint_text'].str.replace('.', '')\n",
    "df2['complaint_text'] = df2['complaint_text'].str.replace(',', '')\n",
    "\n",
    "df2.head()"
   ]
  },
  {
   "cell_type": "code",
   "execution_count": 365,
   "id": "05c1492e",
   "metadata": {},
   "outputs": [
    {
     "data": {
      "text/plain": [
       "'I upgraded my   card in 2018 and was told by the agent who did the upgrade my anniversary date would not change It turned the agent was giving me the wrong information in order to upgrade the account    changed my anniversary date from  to  without my consent  has the recording of the agent who was misled me'"
      ]
     },
     "execution_count": 365,
     "metadata": {},
     "output_type": "execute_result"
    }
   ],
   "source": [
    "df2['complaint_text'][1]"
   ]
  },
  {
   "cell_type": "code",
   "execution_count": 370,
   "id": "a3ac24e5",
   "metadata": {},
   "outputs": [],
   "source": [
    "# Further cleaning, removing stopwords, lemmatizing\n",
    "import re\n",
    "temp =[]\n",
    "my_stop_words = text.ENGLISH_STOP_WORDS\n",
    "\n",
    "from nltk.stem import WordNetLemmatizer\n",
    "lemmatizer = WordNetLemmatizer()\n",
    "\n",
    "for sentence in df2['complaint_text']:\n",
    "    sentence = sentence.lower()\n",
    "    cleaner = re.compile('<.*?>')\n",
    "    sentence = re.sub(cleaner, ' ', sentence)  \n",
    "    sentence = re.sub(r'[?|!|\\'|\"|#]',r'',sentence)\n",
    "    sentence = re.sub(r'[.|,|)|(|\\|/]',r' ',sentence)\n",
    "    sentence = re.sub(r'[\\d-]',r' ',sentence)\n",
    "    \n",
    "    \n",
    "    words = [lemmatizer.lemmatize(word) for word in sentence.split() if word not in my_stop_words] # removing stopwords and lemm\n",
    "    temp.append(words)\n",
    "    \n",
    "final_X = temp"
   ]
  },
  {
   "cell_type": "code",
   "execution_count": 371,
   "id": "7bb1a1cc",
   "metadata": {},
   "outputs": [
    {
     "data": {
      "text/plain": [
       "[['good',\n",
       "  'morning',\n",
       "  'appreciate',\n",
       "  'help',\n",
       "  'stop',\n",
       "  'chase',\n",
       "  'bank',\n",
       "  'cardmember',\n",
       "  'service',\n",
       "  'wrote',\n",
       "  'chase',\n",
       "  'asking',\n",
       "  'debt',\n",
       "  'verification',\n",
       "  'sent',\n",
       "  'statement',\n",
       "  'acceptable',\n",
       "  'asking',\n",
       "  'bank',\n",
       "  'validate',\n",
       "  'debt',\n",
       "  'instead',\n",
       "  'receiving',\n",
       "  'mail',\n",
       "  'month',\n",
       "  'attempting',\n",
       "  'collect',\n",
       "  'debt',\n",
       "  'right',\n",
       "  'know',\n",
       "  'information',\n",
       "  'consumer',\n",
       "  'chase',\n",
       "  'account',\n",
       "  'thanks',\n",
       "  'advance',\n",
       "  'help'],\n",
       " ['upgraded',\n",
       "  'card',\n",
       "  'told',\n",
       "  'agent',\n",
       "  'did',\n",
       "  'upgrade',\n",
       "  'anniversary',\n",
       "  'date',\n",
       "  'change',\n",
       "  'turned',\n",
       "  'agent',\n",
       "  'giving',\n",
       "  'wrong',\n",
       "  'information',\n",
       "  'order',\n",
       "  'upgrade',\n",
       "  'account',\n",
       "  'changed',\n",
       "  'anniversary',\n",
       "  'date',\n",
       "  'consent',\n",
       "  'recording',\n",
       "  'agent',\n",
       "  'misled']]"
      ]
     },
     "execution_count": 371,
     "metadata": {},
     "output_type": "execute_result"
    }
   ],
   "source": [
    "final_X[:2]"
   ]
  },
  {
   "cell_type": "code",
   "execution_count": 372,
   "id": "c28c5dcb",
   "metadata": {},
   "outputs": [],
   "source": [
    "sent = []\n",
    "for row in final_X:\n",
    "    sequ = ''\n",
    "    for word in row:\n",
    "        sequ = sequ + ' ' + word\n",
    "    sent.append(sequ)\n",
    "final_X = sent"
   ]
  },
  {
   "cell_type": "code",
   "execution_count": 373,
   "id": "4f90bfd6",
   "metadata": {},
   "outputs": [
    {
     "name": "stdout",
     "output_type": "stream",
     "text": [
      "[' good morning appreciate help stop chase bank cardmember service wrote chase asking debt verification sent statement acceptable asking bank validate debt instead receiving mail month attempting collect debt right know information consumer chase account thanks advance help', ' upgraded card told agent did upgrade anniversary date change turned agent giving wrong information order upgrade account changed anniversary date consent recording agent misled']\n"
     ]
    }
   ],
   "source": [
    "print(final_X[:2])"
   ]
  },
  {
   "cell_type": "code",
   "execution_count": 374,
   "id": "9cc53529",
   "metadata": {},
   "outputs": [
    {
     "data": {
      "text/html": [
       "<div>\n",
       "<style scoped>\n",
       "    .dataframe tbody tr th:only-of-type {\n",
       "        vertical-align: middle;\n",
       "    }\n",
       "\n",
       "    .dataframe tbody tr th {\n",
       "        vertical-align: top;\n",
       "    }\n",
       "\n",
       "    .dataframe thead th {\n",
       "        text-align: right;\n",
       "    }\n",
       "</style>\n",
       "<table border=\"1\" class=\"dataframe\">\n",
       "  <thead>\n",
       "    <tr style=\"text-align: right;\">\n",
       "      <th></th>\n",
       "      <th>complaint_text</th>\n",
       "      <th>Dummy_ID</th>\n",
       "    </tr>\n",
       "  </thead>\n",
       "  <tbody>\n",
       "    <tr>\n",
       "      <th>0</th>\n",
       "      <td>good morning appreciate help stop chase bank ...</td>\n",
       "      <td>0</td>\n",
       "    </tr>\n",
       "    <tr>\n",
       "      <th>1</th>\n",
       "      <td>upgraded card told agent did upgrade annivers...</td>\n",
       "      <td>1</td>\n",
       "    </tr>\n",
       "    <tr>\n",
       "      <th>2</th>\n",
       "      <td>chase card reported fraudulent application su...</td>\n",
       "      <td>2</td>\n",
       "    </tr>\n",
       "    <tr>\n",
       "      <th>3</th>\n",
       "      <td>trying book ticket came offer applied ticket ...</td>\n",
       "      <td>3</td>\n",
       "    </tr>\n",
       "    <tr>\n",
       "      <th>4</th>\n",
       "      <td>grand son check deposit chase account fund cl...</td>\n",
       "      <td>4</td>\n",
       "    </tr>\n",
       "  </tbody>\n",
       "</table>\n",
       "</div>"
      ],
      "text/plain": [
       "                                      complaint_text  Dummy_ID\n",
       "0   good morning appreciate help stop chase bank ...         0\n",
       "1   upgraded card told agent did upgrade annivers...         1\n",
       "2   chase card reported fraudulent application su...         2\n",
       "3   trying book ticket came offer applied ticket ...         3\n",
       "4   grand son check deposit chase account fund cl...         4"
      ]
     },
     "execution_count": 374,
     "metadata": {},
     "output_type": "execute_result"
    }
   ],
   "source": [
    "# remove unwanted characters, numbers and symbols \n",
    "df2['complaint_text'] = final_X\n",
    "df2.head()"
   ]
  },
  {
   "cell_type": "markdown",
   "id": "656b97ea",
   "metadata": {},
   "source": [
    "# WordCloud"
   ]
  },
  {
   "cell_type": "code",
   "execution_count": 375,
   "id": "d27ee414",
   "metadata": {},
   "outputs": [],
   "source": [
    "from wordcloud import WordCloud "
   ]
  },
  {
   "cell_type": "code",
   "execution_count": 376,
   "id": "2a3fa939",
   "metadata": {},
   "outputs": [
    {
     "data": {
      "image/png": "[encoded data removed]",
      "text/plain": [
       "<Figure size 1300x1000 with 1 Axes>"
      ]
     },
     "metadata": {},
     "output_type": "display_data"
    }
   ],
   "source": [
    "from wordcloud import WordCloud \n",
    "wordcloud = WordCloud(background_color='white',width=800, height=500, random_state=21, max_font_size=110).generate(str(df2['complaint_text'])) \n",
    "plt.figure(1,figsize=(13, 10))\n",
    "fig=plt.figure(1)\n",
    "plt.imshow(wordcloud, interpolation=\"bilinear\") \n",
    "plt.axis('off') \n",
    "plt.show()\n",
    "fig.savefig('wordcloud')\n"
   ]
  },
  {
   "cell_type": "markdown",
   "id": "d82166a2",
   "metadata": {},
   "source": [
    "# Feature Engineering"
   ]
  },
  {
   "cell_type": "markdown",
   "id": "6763ea71",
   "metadata": {},
   "source": [
    "## CountVectorizer (Bag Of Words)"
   ]
  },
  {
   "cell_type": "code",
   "execution_count": 377,
   "id": "5c49bb8a",
   "metadata": {},
   "outputs": [],
   "source": [
    "\n",
    "from sklearn.feature_extraction.text import CountVectorizer\n",
    "\n",
    "cv = CountVectorizer(max_df = 0.95, min_df = 2, stop_words= 'english', max_features=10000, ngram_range=(1,3))\n",
    "X = cv.fit_transform(df2['complaint_text']).toarray()"
   ]
  },
  {
   "cell_type": "code",
   "execution_count": 378,
   "id": "e8a66d8b",
   "metadata": {},
   "outputs": [],
   "source": [
    "Count_vecdf=pd.DataFrame(X)"
   ]
  },
  {
   "cell_type": "markdown",
   "id": "21eadb9a",
   "metadata": {},
   "source": [
    "## TF-IDF"
   ]
  },
  {
   "cell_type": "code",
   "execution_count": 379,
   "id": "a99153b9",
   "metadata": {},
   "outputs": [],
   "source": [
    "tfidf_vectorizer = TfidfVectorizer()\n",
    "tfidf = tfidf_vectorizer.fit_transform(df2['complaint_text'])\n",
    "# get the feature names\n",
    "tfidf_feature_names = tfidf_vectorizer.get_feature_names()"
   ]
  },
  {
   "cell_type": "code",
   "execution_count": 380,
   "id": "6a0ea0b6",
   "metadata": {},
   "outputs": [
    {
     "data": {
      "text/plain": [
       "(29853,)"
      ]
     },
     "execution_count": 380,
     "metadata": {},
     "output_type": "execute_result"
    }
   ],
   "source": [
    "tfidf_Arr=np.array(tfidf_vectorizer.get_feature_names())\n",
    "tfidf_Arr.shape"
   ]
  },
  {
   "cell_type": "code",
   "execution_count": 381,
   "id": "5e0861ca",
   "metadata": {},
   "outputs": [],
   "source": [
    "tfidf_df=pd.DataFrame(tfidf)"
   ]
  },
  {
   "cell_type": "code",
   "execution_count": 382,
   "id": "8b49201c",
   "metadata": {},
   "outputs": [
    {
     "name": "stdout",
     "output_type": "stream",
     "text": [
      "Vocabulary has 29853 distinct terms\n"
     ]
    }
   ],
   "source": [
    "print('Vocabulary has %d distinct terms' % len(tfidf_feature_names))"
   ]
  },
  {
   "cell_type": "markdown",
   "id": "0f9a0f47",
   "metadata": {},
   "source": [
    "# NMF Model "
   ]
  },
  {
   "cell_type": "code",
   "execution_count": 384,
   "id": "888beb3e",
   "metadata": {},
   "outputs": [],
   "source": [
    "no_topics = 5"
   ]
  },
  {
   "cell_type": "code",
   "execution_count": 385,
   "id": "c34c3648",
   "metadata": {},
   "outputs": [],
   "source": [
    "nmf=NMF(n_components = no_topics, random_state =30).fit(tfidf)"
   ]
  },
  {
   "cell_type": "code",
   "execution_count": 386,
   "id": "4c9a3e65",
   "metadata": {},
   "outputs": [
    {
     "name": "stdout",
     "output_type": "stream",
     "text": [
      "0 1 2 3 4 payment late fee balance paid month pay statement day make \n"
     ]
    }
   ],
   "source": [
    "n_top_words = 10\n",
    "def display_top_words(n_top_words, tfidf_Arr, nmf):\n",
    "    for i, topic_vec in enumerate(nmf.components_):\n",
    "        print(i, end=' ')\n",
    "    for fid in topic_vec.argsort()[-1:-n_top_words-1:-1]:\n",
    "        print(tfidf_Arr[fid], end=' ')\n",
    "    print()\n",
    "        \n",
    "display_top_words(10, tfidf_Arr, nmf)"
   ]
  },
  {
   "cell_type": "code",
   "execution_count": 387,
   "id": "aed0f039",
   "metadata": {},
   "outputs": [],
   "source": [
    "def topic_table(n_top_words, tfidf_Arr, nmf):\n",
    "    topics = {}\n",
    "    for i, topic_vec in enumerate(nmf.components_):\n",
    "        topic_descr = ''\n",
    "        for fid in topic_vec.argsort()[-1:-n_top_words-1:-1]:\n",
    "            topic_descr = topic_descr + vocab[fid] + \" \"\n",
    "        topics[i] = topic_descr\n",
    "    return pd.DataFrame({'Top_Topic_Terms': topics})"
   ]
  },
  {
   "cell_type": "code",
   "execution_count": 388,
   "id": "7332c99f",
   "metadata": {},
   "outputs": [
    {
     "data": {
      "text/html": [
       "<div>\n",
       "<style scoped>\n",
       "    .dataframe tbody tr th:only-of-type {\n",
       "        vertical-align: middle;\n",
       "    }\n",
       "\n",
       "    .dataframe tbody tr th {\n",
       "        vertical-align: top;\n",
       "    }\n",
       "\n",
       "    .dataframe thead th {\n",
       "        text-align: right;\n",
       "    }\n",
       "</style>\n",
       "<table border=\"1\" class=\"dataframe\">\n",
       "  <thead>\n",
       "    <tr style=\"text-align: right;\">\n",
       "      <th></th>\n",
       "      <th>topic</th>\n",
       "      <th>top_ten_words</th>\n",
       "    </tr>\n",
       "  </thead>\n",
       "  <tbody>\n",
       "    <tr>\n",
       "      <th>0</th>\n",
       "      <td>0</td>\n",
       "      <td>charge card chase dispute transaction claim fr...</td>\n",
       "    </tr>\n",
       "    <tr>\n",
       "      <th>1</th>\n",
       "      <td>1</td>\n",
       "      <td>credit card report inquiry hard chase account ...</td>\n",
       "    </tr>\n",
       "    <tr>\n",
       "      <th>2</th>\n",
       "      <td>2</td>\n",
       "      <td>loan mortgage chase home modification property...</td>\n",
       "    </tr>\n",
       "    <tr>\n",
       "      <th>3</th>\n",
       "      <td>3</td>\n",
       "      <td>account check bank chase money fund closed che...</td>\n",
       "    </tr>\n",
       "    <tr>\n",
       "      <th>4</th>\n",
       "      <td>4</td>\n",
       "      <td>payment late fee balance paid month pay statem...</td>\n",
       "    </tr>\n",
       "  </tbody>\n",
       "</table>\n",
       "</div>"
      ],
      "text/plain": [
       "  topic                                      top_ten_words\n",
       "0     0  charge card chase dispute transaction claim fr...\n",
       "1     1  credit card report inquiry hard chase account ...\n",
       "2     2  loan mortgage chase home modification property...\n",
       "3     3  account check bank chase money fund closed che...\n",
       "4     4  payment late fee balance paid month pay statem..."
      ]
     },
     "execution_count": 388,
     "metadata": {},
     "output_type": "execute_result"
    }
   ],
   "source": [
    "no_top_words = 10\n",
    "topic_word = display_topics(nmf, tfidf_feature_names, no_top_words)\n",
    "topic_word"
   ]
  },
  {
   "cell_type": "code",
   "execution_count": 390,
   "id": "77b64ae4",
   "metadata": {},
   "outputs": [
    {
     "data": {
      "text/plain": [
       "'charge card chase dispute transaction claim fraud merchant purchase called'"
      ]
     },
     "execution_count": 390,
     "metadata": {},
     "output_type": "execute_result"
    }
   ],
   "source": [
    "topic_word.top_ten_words[0]"
   ]
  },
  {
   "cell_type": "code",
   "execution_count": 393,
   "id": "d8b1c597",
   "metadata": {},
   "outputs": [
    {
     "data": {
      "text/plain": [
       "'credit card report inquiry hard chase account reporting score bureau'"
      ]
     },
     "execution_count": 393,
     "metadata": {},
     "output_type": "execute_result"
    }
   ],
   "source": [
    "topic_word.top_ten_words[1]"
   ]
  },
  {
   "cell_type": "code",
   "execution_count": 392,
   "id": "9d0953e2",
   "metadata": {},
   "outputs": [
    {
     "data": {
      "text/plain": [
       "'loan mortgage chase home modification property year letter foreclosure rate'"
      ]
     },
     "execution_count": 392,
     "metadata": {},
     "output_type": "execute_result"
    }
   ],
   "source": [
    "topic_word.top_ten_words[2]"
   ]
  },
  {
   "cell_type": "code",
   "execution_count": 391,
   "id": "c12c9b19",
   "metadata": {},
   "outputs": [
    {
     "data": {
      "text/plain": [
       "'account check bank chase money fund closed checking deposit branch'"
      ]
     },
     "execution_count": 391,
     "metadata": {},
     "output_type": "execute_result"
    }
   ],
   "source": [
    "topic_word.top_ten_words[3]"
   ]
  },
  {
   "cell_type": "code",
   "execution_count": 394,
   "id": "5ab49e98",
   "metadata": {},
   "outputs": [
    {
     "data": {
      "text/plain": [
       "'payment late fee balance paid month pay statement day make'"
      ]
     },
     "execution_count": 394,
     "metadata": {},
     "output_type": "execute_result"
    }
   ],
   "source": [
    "topic_word.top_ten_words[4]"
   ]
  },
  {
   "cell_type": "code",
   "execution_count": null,
   "id": "21009560",
   "metadata": {},
   "outputs": [],
   "source": []
  },
  {
   "cell_type": "code",
   "execution_count": 395,
   "id": "a1b96514",
   "metadata": {},
   "outputs": [],
   "source": [
    "# Manually label topics\n",
    "topic_word['Target'] = ['Fraud_Reporting','Credit_Cards', 'Loans_Mortages', 'Bank_Services','others']"
   ]
  },
  {
   "cell_type": "code",
   "execution_count": 396,
   "id": "6d6900dc",
   "metadata": {},
   "outputs": [
    {
     "data": {
      "text/plain": [
       "array([[0.00694464, 0.01085795, 0.02934173, 0.02210554, 0.00423344],\n",
       "       [0.01042414, 0.0059382 , 0.00370339, 0.0066524 , 0.00217203],\n",
       "       [0.01059318, 0.04065126, 0.00116666, 0.        , 0.        ],\n",
       "       ...,\n",
       "       [0.01980453, 0.01149887, 0.0107319 , 0.0166506 , 0.        ],\n",
       "       [0.03021117, 0.0221534 , 0.00263671, 0.        , 0.0804719 ],\n",
       "       [0.        , 0.02574053, 0.01077642, 0.03328544, 0.08438693]])"
      ]
     },
     "execution_count": 396,
     "metadata": {},
     "output_type": "execute_result"
    }
   ],
   "source": [
    "doc = nmf.transform(tfidf_vectorizer.transform(df2['complaint_text']))\n",
    "doc"
   ]
  },
  {
   "cell_type": "code",
   "execution_count": 397,
   "id": "b525cee0",
   "metadata": {},
   "outputs": [],
   "source": [
    "# Store most representative topic\n",
    "\n",
    "df2[\"Topic_idx\"] = doc.argmax(axis=1)"
   ]
  },
  {
   "cell_type": "code",
   "execution_count": 398,
   "id": "4ec3c2cb",
   "metadata": {},
   "outputs": [
    {
     "data": {
      "text/html": [
       "<div>\n",
       "<style scoped>\n",
       "    .dataframe tbody tr th:only-of-type {\n",
       "        vertical-align: middle;\n",
       "    }\n",
       "\n",
       "    .dataframe tbody tr th {\n",
       "        vertical-align: top;\n",
       "    }\n",
       "\n",
       "    .dataframe thead th {\n",
       "        text-align: right;\n",
       "    }\n",
       "</style>\n",
       "<table border=\"1\" class=\"dataframe\">\n",
       "  <thead>\n",
       "    <tr style=\"text-align: right;\">\n",
       "      <th></th>\n",
       "      <th>complaint_text</th>\n",
       "      <th>Dummy_ID</th>\n",
       "      <th>Topic_idx</th>\n",
       "    </tr>\n",
       "  </thead>\n",
       "  <tbody>\n",
       "    <tr>\n",
       "      <th>0</th>\n",
       "      <td>good morning appreciate help stop chase bank ...</td>\n",
       "      <td>0</td>\n",
       "      <td>2</td>\n",
       "    </tr>\n",
       "    <tr>\n",
       "      <th>1</th>\n",
       "      <td>upgraded card told agent did upgrade annivers...</td>\n",
       "      <td>1</td>\n",
       "      <td>0</td>\n",
       "    </tr>\n",
       "    <tr>\n",
       "      <th>2</th>\n",
       "      <td>chase card reported fraudulent application su...</td>\n",
       "      <td>2</td>\n",
       "      <td>1</td>\n",
       "    </tr>\n",
       "    <tr>\n",
       "      <th>3</th>\n",
       "      <td>trying book ticket came offer applied ticket ...</td>\n",
       "      <td>3</td>\n",
       "      <td>1</td>\n",
       "    </tr>\n",
       "    <tr>\n",
       "      <th>4</th>\n",
       "      <td>grand son check deposit chase account fund cl...</td>\n",
       "      <td>4</td>\n",
       "      <td>3</td>\n",
       "    </tr>\n",
       "    <tr>\n",
       "      <th>...</th>\n",
       "      <td>...</td>\n",
       "      <td>...</td>\n",
       "      <td>...</td>\n",
       "    </tr>\n",
       "    <tr>\n",
       "      <th>21067</th>\n",
       "      <td>chase card customer decade offered multiple s...</td>\n",
       "      <td>21067</td>\n",
       "      <td>1</td>\n",
       "    </tr>\n",
       "    <tr>\n",
       "      <th>21068</th>\n",
       "      <td>wednesday called chas visa credit card provid...</td>\n",
       "      <td>21068</td>\n",
       "      <td>0</td>\n",
       "    </tr>\n",
       "    <tr>\n",
       "      <th>21069</th>\n",
       "      <td>familiar pay did understand great risk provid...</td>\n",
       "      <td>21069</td>\n",
       "      <td>0</td>\n",
       "    </tr>\n",
       "    <tr>\n",
       "      <th>21070</th>\n",
       "      <td>flawless credit yr ive chase credit card chas...</td>\n",
       "      <td>21070</td>\n",
       "      <td>4</td>\n",
       "    </tr>\n",
       "    <tr>\n",
       "      <th>21071</th>\n",
       "      <td>roughly + year ago closed account jp morgan c...</td>\n",
       "      <td>21071</td>\n",
       "      <td>4</td>\n",
       "    </tr>\n",
       "  </tbody>\n",
       "</table>\n",
       "<p>21072 rows × 3 columns</p>\n",
       "</div>"
      ],
      "text/plain": [
       "                                          complaint_text  Dummy_ID  Topic_idx\n",
       "0       good morning appreciate help stop chase bank ...         0          2\n",
       "1       upgraded card told agent did upgrade annivers...         1          0\n",
       "2       chase card reported fraudulent application su...         2          1\n",
       "3       trying book ticket came offer applied ticket ...         3          1\n",
       "4       grand son check deposit chase account fund cl...         4          3\n",
       "...                                                  ...       ...        ...\n",
       "21067   chase card customer decade offered multiple s...     21067          1\n",
       "21068   wednesday called chas visa credit card provid...     21068          0\n",
       "21069   familiar pay did understand great risk provid...     21069          0\n",
       "21070   flawless credit yr ive chase credit card chas...     21070          4\n",
       "21071   roughly + year ago closed account jp morgan c...     21071          4\n",
       "\n",
       "[21072 rows x 3 columns]"
      ]
     },
     "execution_count": 398,
     "metadata": {},
     "output_type": "execute_result"
    }
   ],
   "source": [
    "df2"
   ]
  },
  {
   "cell_type": "code",
   "execution_count": 399,
   "id": "63dcc30b",
   "metadata": {},
   "outputs": [],
   "source": [
    "# Joining the original dataset with labels\n",
    "final_df = pd.merge(df2, topic_word, left_on='Topic_idx', right_index=True, how='left')"
   ]
  },
  {
   "cell_type": "code",
   "execution_count": 400,
   "id": "8dc8c45e",
   "metadata": {},
   "outputs": [
    {
     "data": {
      "text/html": [
       "<div>\n",
       "<style scoped>\n",
       "    .dataframe tbody tr th:only-of-type {\n",
       "        vertical-align: middle;\n",
       "    }\n",
       "\n",
       "    .dataframe tbody tr th {\n",
       "        vertical-align: top;\n",
       "    }\n",
       "\n",
       "    .dataframe thead th {\n",
       "        text-align: right;\n",
       "    }\n",
       "</style>\n",
       "<table border=\"1\" class=\"dataframe\">\n",
       "  <thead>\n",
       "    <tr style=\"text-align: right;\">\n",
       "      <th></th>\n",
       "      <th>complaint_text</th>\n",
       "      <th>Dummy_ID</th>\n",
       "      <th>Topic_idx</th>\n",
       "      <th>topic</th>\n",
       "      <th>top_ten_words</th>\n",
       "      <th>Target</th>\n",
       "    </tr>\n",
       "  </thead>\n",
       "  <tbody>\n",
       "    <tr>\n",
       "      <th>0</th>\n",
       "      <td>good morning appreciate help stop chase bank ...</td>\n",
       "      <td>0</td>\n",
       "      <td>2</td>\n",
       "      <td>2</td>\n",
       "      <td>loan mortgage chase home modification property...</td>\n",
       "      <td>Loans_Mortages</td>\n",
       "    </tr>\n",
       "    <tr>\n",
       "      <th>1</th>\n",
       "      <td>upgraded card told agent did upgrade annivers...</td>\n",
       "      <td>1</td>\n",
       "      <td>0</td>\n",
       "      <td>0</td>\n",
       "      <td>charge card chase dispute transaction claim fr...</td>\n",
       "      <td>Fraud_Reporting</td>\n",
       "    </tr>\n",
       "    <tr>\n",
       "      <th>2</th>\n",
       "      <td>chase card reported fraudulent application su...</td>\n",
       "      <td>2</td>\n",
       "      <td>1</td>\n",
       "      <td>1</td>\n",
       "      <td>credit card report inquiry hard chase account ...</td>\n",
       "      <td>Credit_Cards</td>\n",
       "    </tr>\n",
       "    <tr>\n",
       "      <th>3</th>\n",
       "      <td>trying book ticket came offer applied ticket ...</td>\n",
       "      <td>3</td>\n",
       "      <td>1</td>\n",
       "      <td>1</td>\n",
       "      <td>credit card report inquiry hard chase account ...</td>\n",
       "      <td>Credit_Cards</td>\n",
       "    </tr>\n",
       "    <tr>\n",
       "      <th>4</th>\n",
       "      <td>grand son check deposit chase account fund cl...</td>\n",
       "      <td>4</td>\n",
       "      <td>3</td>\n",
       "      <td>3</td>\n",
       "      <td>account check bank chase money fund closed che...</td>\n",
       "      <td>Bank_Services</td>\n",
       "    </tr>\n",
       "    <tr>\n",
       "      <th>...</th>\n",
       "      <td>...</td>\n",
       "      <td>...</td>\n",
       "      <td>...</td>\n",
       "      <td>...</td>\n",
       "      <td>...</td>\n",
       "      <td>...</td>\n",
       "    </tr>\n",
       "    <tr>\n",
       "      <th>21067</th>\n",
       "      <td>chase card customer decade offered multiple s...</td>\n",
       "      <td>21067</td>\n",
       "      <td>1</td>\n",
       "      <td>1</td>\n",
       "      <td>credit card report inquiry hard chase account ...</td>\n",
       "      <td>Credit_Cards</td>\n",
       "    </tr>\n",
       "    <tr>\n",
       "      <th>21068</th>\n",
       "      <td>wednesday called chas visa credit card provid...</td>\n",
       "      <td>21068</td>\n",
       "      <td>0</td>\n",
       "      <td>0</td>\n",
       "      <td>charge card chase dispute transaction claim fr...</td>\n",
       "      <td>Fraud_Reporting</td>\n",
       "    </tr>\n",
       "    <tr>\n",
       "      <th>21069</th>\n",
       "      <td>familiar pay did understand great risk provid...</td>\n",
       "      <td>21069</td>\n",
       "      <td>0</td>\n",
       "      <td>0</td>\n",
       "      <td>charge card chase dispute transaction claim fr...</td>\n",
       "      <td>Fraud_Reporting</td>\n",
       "    </tr>\n",
       "    <tr>\n",
       "      <th>21070</th>\n",
       "      <td>flawless credit yr ive chase credit card chas...</td>\n",
       "      <td>21070</td>\n",
       "      <td>4</td>\n",
       "      <td>4</td>\n",
       "      <td>payment late fee balance paid month pay statem...</td>\n",
       "      <td>others</td>\n",
       "    </tr>\n",
       "    <tr>\n",
       "      <th>21071</th>\n",
       "      <td>roughly + year ago closed account jp morgan c...</td>\n",
       "      <td>21071</td>\n",
       "      <td>4</td>\n",
       "      <td>4</td>\n",
       "      <td>payment late fee balance paid month pay statem...</td>\n",
       "      <td>others</td>\n",
       "    </tr>\n",
       "  </tbody>\n",
       "</table>\n",
       "<p>21072 rows × 6 columns</p>\n",
       "</div>"
      ],
      "text/plain": [
       "                                          complaint_text  Dummy_ID  Topic_idx  \\\n",
       "0       good morning appreciate help stop chase bank ...         0          2   \n",
       "1       upgraded card told agent did upgrade annivers...         1          0   \n",
       "2       chase card reported fraudulent application su...         2          1   \n",
       "3       trying book ticket came offer applied ticket ...         3          1   \n",
       "4       grand son check deposit chase account fund cl...         4          3   \n",
       "...                                                  ...       ...        ...   \n",
       "21067   chase card customer decade offered multiple s...     21067          1   \n",
       "21068   wednesday called chas visa credit card provid...     21068          0   \n",
       "21069   familiar pay did understand great risk provid...     21069          0   \n",
       "21070   flawless credit yr ive chase credit card chas...     21070          4   \n",
       "21071   roughly + year ago closed account jp morgan c...     21071          4   \n",
       "\n",
       "      topic                                      top_ten_words  \\\n",
       "0         2  loan mortgage chase home modification property...   \n",
       "1         0  charge card chase dispute transaction claim fr...   \n",
       "2         1  credit card report inquiry hard chase account ...   \n",
       "3         1  credit card report inquiry hard chase account ...   \n",
       "4         3  account check bank chase money fund closed che...   \n",
       "...     ...                                                ...   \n",
       "21067     1  credit card report inquiry hard chase account ...   \n",
       "21068     0  charge card chase dispute transaction claim fr...   \n",
       "21069     0  charge card chase dispute transaction claim fr...   \n",
       "21070     4  payment late fee balance paid month pay statem...   \n",
       "21071     4  payment late fee balance paid month pay statem...   \n",
       "\n",
       "                Target  \n",
       "0       Loans_Mortages  \n",
       "1      Fraud_Reporting  \n",
       "2         Credit_Cards  \n",
       "3         Credit_Cards  \n",
       "4        Bank_Services  \n",
       "...                ...  \n",
       "21067     Credit_Cards  \n",
       "21068  Fraud_Reporting  \n",
       "21069  Fraud_Reporting  \n",
       "21070           others  \n",
       "21071           others  \n",
       "\n",
       "[21072 rows x 6 columns]"
      ]
     },
     "execution_count": 400,
     "metadata": {},
     "output_type": "execute_result"
    }
   ],
   "source": [
    "final_df"
   ]
  },
  {
   "cell_type": "markdown",
   "id": "c6df8141",
   "metadata": {},
   "source": [
    "# Model Training and Evaluation"
   ]
  },
  {
   "cell_type": "code",
   "execution_count": null,
   "id": "8d512197",
   "metadata": {},
   "outputs": [],
   "source": []
  },
  {
   "cell_type": "code",
   "execution_count": 401,
   "id": "44670e27",
   "metadata": {},
   "outputs": [],
   "source": [
    "X = final_df.complaint_text\n",
    "y = final_df.Target"
   ]
  },
  {
   "cell_type": "code",
   "execution_count": 402,
   "id": "7ae29906",
   "metadata": {},
   "outputs": [
    {
     "data": {
      "text/plain": [
       "0         good morning appreciate help stop chase bank ...\n",
       "1         upgraded card told agent did upgrade annivers...\n",
       "2         chase card reported fraudulent application su...\n",
       "3         trying book ticket came offer applied ticket ...\n",
       "4         grand son check deposit chase account fund cl...\n",
       "                               ...                        \n",
       "21067     chase card customer decade offered multiple s...\n",
       "21068     wednesday called chas visa credit card provid...\n",
       "21069     familiar pay did understand great risk provid...\n",
       "21070     flawless credit yr ive chase credit card chas...\n",
       "21071     roughly + year ago closed account jp morgan c...\n",
       "Name: complaint_text, Length: 21072, dtype: object"
      ]
     },
     "execution_count": 402,
     "metadata": {},
     "output_type": "execute_result"
    }
   ],
   "source": [
    "X"
   ]
  },
  {
   "cell_type": "code",
   "execution_count": 405,
   "id": "91868373",
   "metadata": {},
   "outputs": [
    {
     "data": {
      "text/plain": [
       "0         Loans_Mortages\n",
       "1        Fraud_Reporting\n",
       "2           Credit_Cards\n",
       "3           Credit_Cards\n",
       "4          Bank_Services\n",
       "              ...       \n",
       "21067       Credit_Cards\n",
       "21068    Fraud_Reporting\n",
       "21069    Fraud_Reporting\n",
       "21070             others\n",
       "21071             others\n",
       "Name: Target, Length: 21072, dtype: object"
      ]
     },
     "execution_count": 405,
     "metadata": {},
     "output_type": "execute_result"
    }
   ],
   "source": [
    "y"
   ]
  },
  {
   "cell_type": "code",
   "execution_count": 406,
   "id": "287ee9b1",
   "metadata": {},
   "outputs": [],
   "source": [
    "#splitting dataset into train and test dataset\n",
    "x_train, x_test, y_train, y_test = train_test_split(X,y,test_size=0.05,random_state=40)"
   ]
  },
  {
   "cell_type": "code",
   "execution_count": 409,
   "id": "c701b7c6",
   "metadata": {},
   "outputs": [
    {
     "data": {
      "text/plain": [
       "TfidfVectorizer()"
      ]
     },
     "execution_count": 409,
     "metadata": {},
     "output_type": "execute_result"
    }
   ],
   "source": [
    "tfidf_vectorizer.fit(x_train)"
   ]
  },
  {
   "cell_type": "code",
   "execution_count": 410,
   "id": "0add278e",
   "metadata": {},
   "outputs": [],
   "source": [
    "x_train = tfidf_vectorizer.transform(x_train)\n",
    "x_test = tfidf_vectorizer.transform(x_test)"
   ]
  },
  {
   "cell_type": "markdown",
   "id": "7f64b9c0",
   "metadata": {},
   "source": [
    "# *Random Forest"
   ]
  },
  {
   "cell_type": "code",
   "execution_count": 412,
   "id": "46a2b3f5",
   "metadata": {},
   "outputs": [],
   "source": [
    "from sklearn.ensemble import RandomForestClassifier"
   ]
  },
  {
   "cell_type": "code",
   "execution_count": 413,
   "id": "c8f039e8",
   "metadata": {},
   "outputs": [
    {
     "data": {
      "text/plain": [
       "RandomForestClassifier(random_state=50)"
      ]
     },
     "execution_count": 413,
     "metadata": {},
     "output_type": "execute_result"
    }
   ],
   "source": [
    "rf_clf=RandomForestClassifier(random_state=50)\n",
    "rf_clf"
   ]
  },
  {
   "cell_type": "code",
   "execution_count": 414,
   "id": "b4d9a9ec",
   "metadata": {},
   "outputs": [
    {
     "data": {
      "text/plain": [
       "RandomForestClassifier(random_state=50)"
      ]
     },
     "execution_count": 414,
     "metadata": {},
     "output_type": "execute_result"
    }
   ],
   "source": [
    "rf_clf.fit(x_train,y_train)"
   ]
  },
  {
   "cell_type": "code",
   "execution_count": 415,
   "id": "a419e3c8",
   "metadata": {},
   "outputs": [],
   "source": [
    "y_pred=rf_clf.predict(x_test)"
   ]
  },
  {
   "cell_type": "markdown",
   "id": "247ca467",
   "metadata": {},
   "source": [
    "## Training Model Evaluation"
   ]
  },
  {
   "cell_type": "code",
   "execution_count": 419,
   "id": "2410393b",
   "metadata": {},
   "outputs": [],
   "source": [
    "y_pred_train=rf_clf.predict(x_train)"
   ]
  },
  {
   "cell_type": "code",
   "execution_count": 425,
   "id": "33eec543",
   "metadata": {},
   "outputs": [
    {
     "name": "stdout",
     "output_type": "stream",
     "text": [
      "Confusion Matrix: \n",
      " [[5594    0    0    0    0]\n",
      " [   0 3791    0    0    0]\n",
      " [   0    0 4323    0    0]\n",
      " [   0    0    0 3822    0]\n",
      " [   0    0    0    0 2488]]\n"
     ]
    }
   ],
   "source": [
    "cnf_matrix=confusion_matrix(y_train,y_pred_train)\n",
    "print(\"Confusion Matrix: \\n\", cnf_matrix)"
   ]
  },
  {
   "cell_type": "code",
   "execution_count": 428,
   "id": "a16e85d3",
   "metadata": {},
   "outputs": [
    {
     "name": "stdout",
     "output_type": "stream",
     "text": [
      "classification_report: \n",
      "                  precision    recall  f1-score   support\n",
      "\n",
      "  Bank_Services       1.00      1.00      1.00      5594\n",
      "   Credit_Cards       1.00      1.00      1.00      3791\n",
      "Fraud_Reporting       1.00      1.00      1.00      4323\n",
      " Loans_Mortages       1.00      1.00      1.00      3822\n",
      "         others       1.00      1.00      1.00      2488\n",
      "\n",
      "       accuracy                           1.00     20018\n",
      "      macro avg       1.00      1.00      1.00     20018\n",
      "   weighted avg       1.00      1.00      1.00     20018\n",
      "\n"
     ]
    }
   ],
   "source": [
    "clf_rpt=classification_report(y_train,y_pred_train)\n",
    "print(\"classification_report: \\n\", clf_rpt)"
   ]
  },
  {
   "cell_type": "markdown",
   "id": "0f6ef6f3",
   "metadata": {},
   "source": [
    "# Testin Data Evaluation"
   ]
  },
  {
   "cell_type": "code",
   "execution_count": 429,
   "id": "fa145bd4",
   "metadata": {},
   "outputs": [
    {
     "name": "stdout",
     "output_type": "stream",
     "text": [
      "Confusion Matrix: \n",
      " [[273   6   4   4   0]\n",
      " [  9 194  15   2   1]\n",
      " [ 34   4 178   1   1]\n",
      " [ 14   6   5 168   2]\n",
      " [ 17   7   8  11  90]]\n"
     ]
    }
   ],
   "source": [
    "cnf_matrix=confusion_matrix(y_test,y_pred)\n",
    "print(\"Confusion Matrix: \\n\", cnf_matrix)"
   ]
  },
  {
   "cell_type": "code",
   "execution_count": 430,
   "id": "c7412375",
   "metadata": {},
   "outputs": [
    {
     "name": "stdout",
     "output_type": "stream",
     "text": [
      "classification_report: \n",
      "                  precision    recall  f1-score   support\n",
      "\n",
      "  Bank_Services       0.79      0.95      0.86       287\n",
      "   Credit_Cards       0.89      0.88      0.89       221\n",
      "Fraud_Reporting       0.85      0.82      0.83       218\n",
      " Loans_Mortages       0.90      0.86      0.88       195\n",
      "         others       0.96      0.68      0.79       133\n",
      "\n",
      "       accuracy                           0.86      1054\n",
      "      macro avg       0.88      0.84      0.85      1054\n",
      "   weighted avg       0.86      0.86      0.86      1054\n",
      "\n"
     ]
    }
   ],
   "source": [
    "clf_rpt=classification_report(y_test,y_pred)\n",
    "print(\"classification_report: \\n\", clf_rpt)"
   ]
  }
 ],
 "metadata": {
  "kernelspec": {
   "display_name": "Python 3 (ipykernel)",
   "language": "python",
   "name": "python3"
  },
  "language_info": {
   "codemirror_mode": {
    "name": "ipython",
    "version": 3
   },
   "file_extension": ".py",
   "mimetype": "text/x-python",
   "name": "python",
   "nbconvert_exporter": "python",
   "pygments_lexer": "ipython3",
   "version": "3.9.13"
  }
 },
 "nbformat": 4,
 "nbformat_minor": 5
}
